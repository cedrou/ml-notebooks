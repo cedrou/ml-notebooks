{
 "cells": [
  {
   "cell_type": "markdown",
   "metadata": {},
   "source": [
    "# War game analysis\n",
    "\n",
    "http://www.lifl.fr/~jdelahay/pls/1995/030.pdf\n"
   ]
  },
  {
   "cell_type": "code",
   "execution_count": 235,
   "metadata": {},
   "outputs": [],
   "source": [
    "from random import shuffle\n",
    "import math\n",
    "from lolviz import *\n",
    "from itertools import *\n",
    "from collections import deque\n",
    "from pandas import DataFrame\n",
    "from joblib import Parallel, delayed\n",
    "from hashids import Hashids\n",
    "hashids = Hashids()\n",
    "import numpy as np\n"
   ]
  },
  {
   "cell_type": "markdown",
   "metadata": {},
   "source": [
    "## Assumptions\n",
    "\n",
    "- The cards are numbered from $1$ to $N$.\n",
    "- A deck has 4 cards of each value. The colors are ignored so each card with the same value are equivalent.\n",
    "- At the start, the deck is shuffled and divided into 2 equals parts\n",
    "- At each turn, each player take the card at the top of its hand and put it on the table.\n",
    "- The player with the highest value card collects both cards and returns them at the bottom of its hand. The ordered in which the cards are returned is not specified in the rules.\n",
    "- If both players present the same value card, ...\n",
    "- the game finishes when one player loses all its cards (he loses), or the current battle has no issue."
   ]
  },
  {
   "cell_type": "code",
   "execution_count": 5,
   "metadata": {},
   "outputs": [],
   "source": [
    "def deck(n):\n",
    "    for i in range(4*n):\n",
    "        yield (i // 4) + 1 \n",
    "\n",
    "def shuffled_deck(n):\n",
    "    d = list(deck(n))\n",
    "    shuffle(d)\n",
    "    return d"
   ]
  },
  {
   "cell_type": "code",
   "execution_count": 160,
   "metadata": {},
   "outputs": [
    {
     "name": "stdout",
     "output_type": "stream",
     "text": [
      "[1, 3, 2, 2, 2, 1, 4, 3, 1, 3, 3, 4, 1, 4, 2, 4]\n",
      "1\n",
      "1\n",
      "1\n",
      "1\n",
      "2\n",
      "2\n",
      "2\n",
      "2\n"
     ]
    }
   ],
   "source": [
    "print (shuffled_deck(4))\n",
    "\n",
    "for i in deck(2): print(i)"
   ]
  },
  {
   "cell_type": "markdown",
   "metadata": {},
   "source": [
    "## How many different games are possible?\n",
    "\n",
    "A deck has $4N$ cards:\n",
    "\n",
    "    [1a,1b,1c,1d,2a,2b,2c,2d]\n",
    "    \n",
    "There is $(4N)!$ ways to distribute these cards.\n",
    "\n",
    "But in the war game, the colors are ignored: each '1' are equivalent, just like each '2' are equivalent, etc:\n",
    "\n",
    "    [1,1,1,1,2,2,2,2]\n",
    "    \n",
    "We must remove the different possible combinations of each color. Each color can be distributed in 4! different ways. So we divide the first value by $(4!)^N$.\n",
    "\n",
    "\n",
    "    [1,1,1,1][2,2,2,2]\n",
    "    \n",
    "    \n",
    "    [1,1,1,2][2,2,2,1] [1,1,2,1][2,2,2,1]\n",
    "    [1,1,1,2][2,2,1,2] [1,1,2,1][2,2,1,2]\n",
    "    [1,1,1,2][2,1,2,2] [1,1,2,1][2,1,2,2]\n",
    "    [1,1,1,2][1,2,2,2] [1,1,2,1][1,2,2,2]\n",
    "    \n",
    "    [1,2,1,1][2,2,2,1] [2,1,1,1][2,2,2,1]\n",
    "    [1,2,1,1][2,2,1,2] [2,1,1,1][2,2,1,2]\n",
    "    [1,2,1,1][2,1,2,2] [2,1,1,1][2,1,2,2]\n",
    "    [1,2,1,1][1,2,2,2] [2,1,1,1][1,2,2,2]\n",
    "    \n",
    "\n",
    "    [1,1,2,2][2,2,1,1] [1,2,1,2][2,2,1,1] [1,2,2,1][2,2,1,1]\n",
    "    [1,1,2,2][2,1,2,1] [1,2,1,2][2,1,2,1] [1,2,2,1][2,1,2,1]\n",
    "    [1,1,2,2][2,1,1,2] [1,2,1,2][2,1,1,2] [1,2,2,1][2,1,1,2]\n",
    "    [1,1,2,2][1,2,2,1] [1,2,1,2][1,2,2,1] [1,2,2,1][1,2,2,1]\n",
    "    [1,1,2,2][1,2,1,2] [1,2,1,2][1,2,1,2] [1,2,2,1][1,2,1,2]\n",
    "    [1,1,2,2][1,1,2,2] [1,2,1,2][1,1,2,2] [1,2,2,1][1,1,2,2]\n",
    "\n",
    "    [2,1,1,2][2,2,1,1] [2,1,2,1][2,2,1,1] [2,2,1,1][2,2,1,1]\n",
    "    [2,1,1,2][2,1,2,1] [2,1,2,1][2,1,2,1] [2,2,1,1][2,1,2,1]\n",
    "    [2,1,1,2][2,1,1,2] [2,1,2,1][2,1,1,2] [2,2,1,1][2,1,1,2]\n",
    "    [2,1,1,2][1,2,2,1] [2,1,2,1][1,2,2,1] [2,2,1,1][1,2,2,1]\n",
    "    [2,1,1,2][1,2,1,2] [2,1,2,1][1,2,1,2] [2,2,1,1][1,2,1,2]\n",
    "    [2,1,1,2][1,1,2,2] [2,1,2,1][1,1,2,2] [2,2,1,1][1,1,2,2]\n",
    "\n",
    "    \n",
    "    [1,2,2,2][2,1,1,1] [2,1,2,2][2,1,1,1]\n",
    "    [1,2,2,2][1,2,1,1] [2,1,2,2][1,2,1,1]\n",
    "    [1,2,2,2][1,1,2,1] [2,1,2,2][1,1,2,1]\n",
    "    [1,2,2,2][1,1,1,2] [2,1,2,2][1,1,1,2]\n",
    "\n",
    "    [2,2,1,2][2,1,1,1] [2,2,2,1][2,1,1,1]\n",
    "    [2,2,1,2][1,2,1,1] [2,2,2,1][1,2,1,1]\n",
    "    [2,2,1,2][1,1,2,1] [2,2,2,1][1,1,2,1]\n",
    "    [2,2,1,2][1,1,1,2] [2,2,2,1][1,1,1,2]\n",
    "    \n",
    "    \n",
    "    [2,2,2,2][1,1,1,1]\n",
    "    \n",
    "Here, we don't take into account which player wins or looses, so most of the previous distributions lead to the same game: either player A has the deck 1 and player B has the deck 2, or player A has the deck 2 and player B has the deck 1. The distributions that are counted twice are those for which player A and player B have different decks. So we need to enumerate the distributions where decks 1 and 2 are the same.\n",
    "\n",
    "If players A and B have the same deck, then it must have 2 '1', 2 '2', etc. There are $\\frac{(2N)!}{2^N}$ such games.\n",
    "\n",
    "All in all, the number of possible games is half the number of distributions where deck 1 and 2 are different, plus the number of distributions where theu are the same.\n",
    "\n",
    "$$\n",
    "\\begin{split}\n",
    "NbPossibleGames &= \\left(\\frac{(4N)!}{4!^N} - \\frac{(2N)!}{2^N}\\right)/2 + \\frac{(2N)!}{2^N} \\\\\n",
    "                 &= \\left(\\frac{(4N)!}{4!^N} + \\frac{(2N)!}{2^N}\\right)/2\n",
    "\\end{split}$$"
   ]
  },
  {
   "cell_type": "code",
   "execution_count": 66,
   "metadata": {},
   "outputs": [
    {
     "name": "stdout",
     "output_type": "stream",
     "text": [
      "N= 1 ( 4 cards)  1 (1.0E+00)\n",
      "N= 2 ( 8 cards)  38 (3.8E+01)\n",
      "N= 3 (12 cards)  17370 (1.7E+04)\n",
      "N= 4 (16 cards)  31532760 (3.2E+07)\n",
      "N= 5 (20 cards)  152770174200 (1.5E+11)\n",
      "N= 6 (24 cards)  1623335272297200 (1.6E+15)\n",
      "N= 7 (28 cards)  33237789624004169728 (3.3E+19)\n",
      "N= 8 (32 cards)  1195230914866984691695616 (1.2E+24)\n",
      "N= 9 (36 cards)  70405077040237348082159714304 (7.0E+28)\n",
      "N=10 (40 cards)  6434319990707289290219959592419328 (6.4E+33)\n",
      "N=11 (44 cards)  873465373058505299755221088105463283712 (8.7E+38)\n",
      "N=12 (48 cards)  169958892289723968662473635773145099362369536 (1.7E+44)\n",
      "N=13 (52 cards)  46012121115135518672358064931939299654060176572416 (4.6E+49)\n"
     ]
    }
   ],
   "source": [
    "def nb_possible_games(n):\n",
    "    return int(\n",
    "        ( math.factorial(4*n) / math.pow(24,n) \n",
    "        + math.factorial(2*n) / math.pow(2,n)\n",
    "        ) / 2\n",
    "    )\n",
    "\n",
    "for  n in range(1,14):\n",
    "    nbgames = nb_possible_games(n)\n",
    "    print(f'N={n:2} ({4*n:2} cards)  {nbgames} ({nbgames:.1E})')"
   ]
  },
  {
   "cell_type": "markdown",
   "metadata": {},
   "source": [
    "## Enumerate all possible games"
   ]
  },
  {
   "cell_type": "code",
   "execution_count": 3,
   "metadata": {},
   "outputs": [
    {
     "name": "stdout",
     "output_type": "stream",
     "text": [
      "    1    ((1, 1, 1, 1), (2, 2, 2, 2))\n",
      "    2    ((1, 1, 1, 2), (1, 2, 2, 2))\n",
      "    3    ((1, 1, 1, 2), (2, 1, 2, 2))\n",
      "    4    ((1, 1, 1, 2), (2, 2, 1, 2))\n",
      "    5    ((1, 1, 1, 2), (2, 2, 2, 1))\n",
      "    6    ((1, 1, 2, 1), (1, 2, 2, 2))\n",
      "    7    ((1, 1, 2, 1), (2, 1, 2, 2))\n",
      "    8    ((1, 1, 2, 1), (2, 2, 1, 2))\n",
      "    9    ((1, 1, 2, 1), (2, 2, 2, 1))\n",
      "   10    ((1, 1, 2, 2), (1, 1, 2, 2))\n",
      "   11    ((1, 1, 2, 2), (1, 2, 1, 2))\n",
      "   12    ((1, 1, 2, 2), (1, 2, 2, 1))\n",
      "   13    ((1, 1, 2, 2), (2, 1, 1, 2))\n",
      "   14    ((1, 1, 2, 2), (2, 1, 2, 1))\n",
      "   15    ((1, 1, 2, 2), (2, 2, 1, 1))\n",
      "   16    ((1, 2, 1, 1), (1, 2, 2, 2))\n",
      "   17    ((1, 2, 1, 1), (2, 1, 2, 2))\n",
      "   18    ((1, 2, 1, 1), (2, 2, 1, 2))\n",
      "   19    ((1, 2, 1, 1), (2, 2, 2, 1))\n",
      "   20    ((1, 2, 1, 2), (1, 2, 1, 2))\n",
      "   21    ((1, 2, 1, 2), (1, 2, 2, 1))\n",
      "   22    ((1, 2, 1, 2), (2, 1, 1, 2))\n",
      "   23    ((1, 2, 1, 2), (2, 1, 2, 1))\n",
      "   24    ((1, 2, 1, 2), (2, 2, 1, 1))\n",
      "   25    ((1, 2, 2, 1), (1, 2, 2, 1))\n",
      "   26    ((1, 2, 2, 1), (2, 1, 1, 2))\n",
      "   27    ((1, 2, 2, 1), (2, 1, 2, 1))\n",
      "   28    ((1, 2, 2, 1), (2, 2, 1, 1))\n",
      "   29    ((1, 2, 2, 2), (2, 1, 1, 1))\n",
      "   30    ((2, 1, 1, 1), (2, 1, 2, 2))\n",
      "   31    ((2, 1, 1, 1), (2, 2, 1, 2))\n",
      "   32    ((2, 1, 1, 1), (2, 2, 2, 1))\n",
      "   33    ((2, 1, 1, 2), (2, 1, 1, 2))\n",
      "   34    ((2, 1, 1, 2), (2, 1, 2, 1))\n",
      "   35    ((2, 1, 1, 2), (2, 2, 1, 1))\n",
      "   36    ((2, 1, 2, 1), (2, 1, 2, 1))\n",
      "   37    ((2, 1, 2, 1), (2, 2, 1, 1))\n",
      "   38    ((2, 2, 1, 1), (2, 2, 1, 1))\n"
     ]
    }
   ],
   "source": [
    "def split_deck(deck):\n",
    "    index = int(len(deck)/2)\n",
    "    # cut the deck in 2 equal parts\n",
    "    g0 = tuple(deck[:index])\n",
    "    g1 = tuple(deck[index:])\n",
    "\n",
    "    # we don't take into account which player wins or looses\n",
    "    return (g0,g1) if (g0<g1) else (g1,g0)\n",
    "\n",
    "def enumerate_games(n):\n",
    "    counts = [4] * n\n",
    "    game = [None]*(4*n)\n",
    "    \n",
    "    def recurse(index, hashes):\n",
    "         for value in range(n): # each card can have a value up to n\n",
    "            \n",
    "            if counts[value] == 0: # no more card with this value\n",
    "                continue\n",
    "            \n",
    "            counts[value] -= 1\n",
    "            \n",
    "            game[index] = value+1\n",
    "            \n",
    "            if index == 4*n - 1:\n",
    "                g = split_deck(game)\n",
    "                \n",
    "                # check that this distribution was not already returned\n",
    "                h = hash(g)\n",
    "                if not h in hashes:\n",
    "                    hashes.add(h)\n",
    "                    yield g\n",
    "                \n",
    "            else:\n",
    "                yield from recurse(index+1, hashes)\n",
    "            \n",
    "            counts[value] += 1\n",
    "       \n",
    "    yield from recurse(0, set())\n",
    "\n",
    "    \n",
    "num = 0\n",
    "for game in enumerate_games(2):\n",
    "    num += 1\n",
    "    print(f'{num:5}    {game}')\n"
   ]
  },
  {
   "cell_type": "markdown",
   "metadata": {},
   "source": [
    "## Play a game\n",
    "\n"
   ]
  },
  {
   "cell_type": "code",
   "execution_count": 31,
   "metadata": {},
   "outputs": [
    {
     "name": "stdout",
     "output_type": "stream",
     "text": [
      "((1, 3, 3, 2, 1, 1), (2, 2, 3, 3, 1, 2)) B 8 12\n"
     ]
    }
   ],
   "source": [
    "def play_game(packs):\n",
    "    playerA = deque(packs[0])\n",
    "    playerB = deque(packs[1])\n",
    "    stack = deque()\n",
    "    tricks = 0\n",
    "    cards = 0\n",
    "    hashes = []\n",
    "    \n",
    "    \n",
    "    \n",
    "    #print(packs)\n",
    "    \n",
    "    while (len(playerA) and len(playerB)):\n",
    "        \n",
    "        if not stack:\n",
    "            h = hash(tuple(list(playerA) + [0] + list(playerB)))\n",
    "            if h in hashes:\n",
    "                #print(hashes, h)\n",
    "                offset = hashes.index(h)\n",
    "                period = len(hashes) - offset\n",
    "                return packs, 3, offset, period\n",
    "\n",
    "            hashes += [h]\n",
    "        \n",
    "        a = playerA.popleft()\n",
    "        b = playerB.popleft()\n",
    "        #print(f'  a:{a}, b:{b}')\n",
    "\n",
    "        cards += 1\n",
    "        if not stack: tricks += 1    \n",
    "\n",
    "        if (a > b):\n",
    "            playerA.extend([a,b])\n",
    "            playerA.extend(stack)\n",
    "            stack.clear()\n",
    "            #print(f'A:{playerA}, B:{playerB}')\n",
    "        elif (a < b):\n",
    "            playerB.extend([b,a])\n",
    "            playerB.extend(stack)\n",
    "            stack.clear()\n",
    "            #print(f'A:{playerA}, B:{playerB}')\n",
    "        else:\n",
    "            stack.extendleft([a,b])\n",
    "            #print(f'    stack:{stack}')\n",
    "    \n",
    "    winner = 1 if len(playerA) \\\n",
    "        else 2 if len(playerB) \\\n",
    "        else 0\n",
    "    \n",
    "    return packs, winner, tricks, cards\n",
    "    \n",
    "winner_name = ['None','A','B','Infinite']\n",
    "game, winner, tricks, cards = play_game( split_deck(shuffled_deck(3)) )\n",
    "print(game, winner_name[winner], tricks, cards)\n",
    "\n",
    "# winner, tricks, cards = play_game( ([1,1,2,2],[1,1,2,2]) )\n",
    "# print(winner_name[winner], tricks, cards)\n",
    "# winner, tricks, cards = play_game( ([1,1,2,1],[1,2,2,2]) )\n",
    "# print(winner_name[winner], tricks, cards)\n",
    "# winner, tricks, cards = play_game( ([1,2,1,2],[2,1,1,2]) )\n",
    "# print(winner_name[winner], tricks, cards)\n",
    "# winner, tricks, cards = play_game( ([1,1,1,2],[2,2,1,2]) )\n",
    "# print(winner_name[winner], tricks, cards)\n",
    "# winner, tricks, cards = play_game( ([2,1,1,2],[2,2,1,1]) )\n",
    "# print(winner_name[winner], tricks, cards)\n",
    "# winner, tricks, cards = play_game( ([2,1,1,2],[1,2,2,1]) )\n",
    "# print(winner_name[winner], tricks, cards)\n",
    "\n",
    "# winner, tricks, cards = play_game( ((3,2,1,1,2,1), (2,1,3,2,3,3)) )\n",
    "# print(winner_name[winner], tricks, cards)\n"
   ]
  },
  {
   "cell_type": "code",
   "execution_count": 10,
   "metadata": {},
   "outputs": [
    {
     "name": "stdout",
     "output_type": "stream",
     "text": [
      "          winner     tricks      cards\n",
      "count  38.000000  38.000000  38.000000\n",
      "mean    1.263158   2.973684   5.263158\n",
      "std     0.890921   1.283720   1.427230\n",
      "min     0.000000   1.000000   4.000000\n",
      "25%     0.000000   2.000000   4.000000\n",
      "50%     2.000000   3.000000   5.000000\n",
      "75%     2.000000   3.750000   6.000000\n",
      "max     2.000000   5.000000   8.000000\n"
     ]
    }
   ],
   "source": [
    "all_games = []\n",
    "for g in enumerate_games(2):\n",
    "    game, winner, tricks, cards = play_game(g)\n",
    "    all_games += [{'game':game, 'winner':winner, 'tricks':tricks, 'cards':cards}]\n",
    "\n",
    "df = DataFrame(all_games, columns=['game', 'winner', 'tricks', 'cards'])\n",
    "#print(df)\n",
    "#print(df.info())\n",
    "print(df.describe())"
   ]
  },
  {
   "cell_type": "code",
   "execution_count": 309,
   "metadata": {},
   "outputs": [
    {
     "name": "stdout",
     "output_type": "stream",
     "text": [
      "[         1          3          9         27         81        243\n",
      "        729       2187       6561      19683      59049     177147\n",
      "     531441    1594323    4782969   14348907   43046721  129140163\n",
      "  387420489 1162261467 -808182895 1870418611 1316288537 -346101685]\n",
      "[ 3.00000000e+00  6.00000000e+00  9.00000000e+00  2.70000000e+01\n",
      "  1.62000000e+02  2.43000000e+02  0.00000000e+00  0.00000000e+00\n",
      "  0.00000000e+00  0.00000000e+00  0.00000000e+00  0.00000000e+00\n",
      "  1.06288200e+06  1.59432300e+06  1.43489070e+07  2.86978140e+07\n",
      "  1.29140163e+08  3.87420489e+08  0.00000000e+00  0.00000000e+00\n",
      " -0.00000000e+00  0.00000000e+00  0.00000000e+00 -0.00000000e+00]\n",
      "[         1          3          9         27         81        243\n",
      "        729       2187       6561      19683      59049     177147\n",
      "     531441    1594323    4782969   14348907   43046721  129140163\n",
      "  387420489 1162261467 -808182895 1870418611 1316288537 -346101685]\n",
      "[ 3.00000000e+00  6.00000000e+00  9.00000000e+00  2.70000000e+01\n",
      "  1.62000000e+02  7.29000000e+02  1.45800000e+03  0.00000000e+00\n",
      "  0.00000000e+00  0.00000000e+00  0.00000000e+00  0.00000000e+00\n",
      "  1.06288200e+06  1.59432300e+06  1.43489070e+07  2.86978140e+07\n",
      "  1.29140163e+08  3.87420489e+08  0.00000000e+00  0.00000000e+00\n",
      " -0.00000000e+00  0.00000000e+00  0.00000000e+00 -0.00000000e+00]\n",
      "[         1          3          9         27         81        243\n",
      "        729       2187       6561      19683      59049     177147\n",
      "     531441    1594323    4782969   14348907   43046721  129140163\n",
      "  387420489 1162261467 -808182895 1870418611 1316288537 -346101685]\n",
      "[ 3.00000000e+00  6.00000000e+00  9.00000000e+00  2.70000000e+01\n",
      "  1.62000000e+02  7.29000000e+02  2.18700000e+03  4.37400000e+03\n",
      "  0.00000000e+00  0.00000000e+00  0.00000000e+00  0.00000000e+00\n",
      "  1.06288200e+06  1.59432300e+06  1.43489070e+07  2.86978140e+07\n",
      "  1.29140163e+08  3.87420489e+08  0.00000000e+00  0.00000000e+00\n",
      " -0.00000000e+00  0.00000000e+00  0.00000000e+00 -0.00000000e+00]\n",
      "[         1          3          9         27         81        243\n",
      "        729       2187       6561      19683      59049     177147\n",
      "     531441    1594323    4782969   14348907   43046721  129140163\n",
      "  387420489 1162261467 -808182895 1870418611 1316288537 -346101685]\n",
      "[ 3.00000000e+00  6.00000000e+00  9.00000000e+00  2.70000000e+01\n",
      "  1.62000000e+02  7.29000000e+02  2.18700000e+03  6.56100000e+03\n",
      "  1.31220000e+04  0.00000000e+00  0.00000000e+00  0.00000000e+00\n",
      "  1.06288200e+06  1.59432300e+06  1.43489070e+07  2.86978140e+07\n",
      "  1.29140163e+08  3.87420489e+08  0.00000000e+00  0.00000000e+00\n",
      " -0.00000000e+00  0.00000000e+00  0.00000000e+00 -0.00000000e+00]\n",
      "[         1          3          9         27         81        243\n",
      "        729       2187       6561      19683      59049     177147\n",
      "     531441    1594323    4782969   14348907   43046721  129140163\n",
      "  387420489 1162261467 -808182895 1870418611 1316288537 -346101685]\n",
      "[ 3.00000000e+00  6.00000000e+00  9.00000000e+00  2.70000000e+01\n",
      "  1.62000000e+02  7.29000000e+02  2.18700000e+03  6.56100000e+03\n",
      "  1.96830000e+04  3.93660000e+04  0.00000000e+00  0.00000000e+00\n",
      "  1.06288200e+06  1.59432300e+06  1.43489070e+07  2.86978140e+07\n",
      "  1.29140163e+08  3.87420489e+08  0.00000000e+00  0.00000000e+00\n",
      " -0.00000000e+00  0.00000000e+00  0.00000000e+00 -0.00000000e+00]\n",
      "[         1          3          9         27         81        243\n",
      "        729       2187       6561      19683      59049     177147\n",
      "     531441    1594323    4782969   14348907   43046721  129140163\n",
      "  387420489 1162261467 -808182895 1870418611 1316288537 -346101685]\n",
      "[ 3.00000000e+00  6.00000000e+00  9.00000000e+00  2.70000000e+01\n",
      "  1.62000000e+02  7.29000000e+02  2.18700000e+03  6.56100000e+03\n",
      "  1.96830000e+04  5.90490000e+04  1.18098000e+05  0.00000000e+00\n",
      "  1.06288200e+06  1.59432300e+06  1.43489070e+07  2.86978140e+07\n",
      "  1.29140163e+08  3.87420489e+08  0.00000000e+00  0.00000000e+00\n",
      " -0.00000000e+00  0.00000000e+00  0.00000000e+00 -0.00000000e+00]\n"
     ]
    },
    {
     "data": {
      "text/plain": [
       "([3, 2, 1, 1, 2, 1, 2, 1, 3, 2, 3, 3], 1, 6, 6)"
      ]
     },
     "execution_count": 309,
     "metadata": {},
     "output_type": "execute_result"
    }
   ],
   "source": [
    "from numba import jit\n",
    "\n",
    "def fnv64(data):\n",
    "\n",
    "    hash_ = 0xcbf29ce484222325\n",
    "\n",
    "    for b in data:\n",
    "\n",
    "        hash_ *= 0x100000001b3\n",
    "\n",
    "        hash_ &= 0xffffffffffffffff\n",
    "\n",
    "        hash_ ^= b\n",
    "\n",
    "    return hash_\n",
    "\n",
    "\n",
    "def myhash(data):\n",
    "    base_size = np.uint64(len(data) / 8)\n",
    "    base = base_size ** np.arange(len(data))\n",
    "    print (base)\n",
    "    hashed_array = (base * data)\n",
    "    print(hashed_array)\n",
    "    return hashed_array.sum()\n",
    "    \n",
    "\n",
    "#@jit(nopython=True)\n",
    "def find_first(item, vec, max):\n",
    "    \"\"\"return the index of the first occurence of item in vec\"\"\"\n",
    "    for i in range(max):\n",
    "        if item == vec[i]:\n",
    "            return i\n",
    "    return -1\n",
    "\n",
    "#@jit\n",
    "def play_game_2(deck):\n",
    "    \n",
    "    L = int(len(deck))\n",
    "    L2 = int(L / 2)\n",
    "    \n",
    "    topA = 0\n",
    "    endA = L2\n",
    "    topB = L\n",
    "    endB = L+L2\n",
    "    \n",
    "    #cards = [0] * (L*2)\n",
    "    cards = np.zeros(2*L)\n",
    "    cards[topA:endA] = deck[:L2]\n",
    "    cards[topB:endB] = deck[L2:]\n",
    "    \n",
    "    stack = np.zeros(L2)\n",
    "    endStack = 0\n",
    "    \n",
    "    #print(\"deck \",deck)\n",
    "    #print(f'      a:_, b:_, cards:{cards}, stack:{stack}')\n",
    "\n",
    "    ntricks = 0\n",
    "    ncards = 0\n",
    "    \n",
    "    hashes = np.zeros(5000)\n",
    "    endHash = 0\n",
    "\n",
    "    while (endA>topA and endB>topB):\n",
    "        \n",
    "        if endStack == 0:\n",
    "            #h = hash(tuple(list(playerA) + [0] + list(playerB)))\n",
    "            h = myhash(cards)\n",
    "            #h = hash(cards.tostring())\n",
    "            offset = find_first(h,hashes,endHash)\n",
    "            if offset >= 0:\n",
    "                #print(hashes, h)\n",
    "                period = endHash - offset\n",
    "                return deck, 3, offset, period\n",
    "\n",
    "            hashes[endHash] = h\n",
    "            endHash += 1\n",
    "        \n",
    "        a = cards[topA]\n",
    "        b = cards[topB]\n",
    "        #cards[:-1] = cards[1:]\n",
    "        np.roll(cards,-1)\n",
    "#--#\n",
    "        cards[L-1] = cards[2*L-1] = 0\n",
    "#--#\n",
    "        endA -= 1\n",
    "        endB -= 1\n",
    "\n",
    "        ncards += 1\n",
    "        if endStack == 0: ntricks += 1    \n",
    "\n",
    "        #print(f'{ncards:2}    a:{a}, b:{b}, cards:{cards}, stack:{stack}')\n",
    "\n",
    "        if (a > b):\n",
    "            #playerA.extend([a,b])\n",
    "            cards[endA] = a; endA += 1\n",
    "            cards[endA] = b; endA += 1\n",
    "            #playerA.extend(stack)\n",
    "            for i in range(endStack):\n",
    "                cards[endA] = stack[endStack-1-i]; endA += 1\n",
    "                cards[endA] = stack[endStack-1-i]; endA += 1\n",
    "            #stack.clear()\n",
    "#--#\n",
    "            for i in range(endStack): stack[i] = 0\n",
    "#--#\n",
    "            endStack = 0\n",
    "            #print(f'                cards:{cards}')\n",
    "        \n",
    "        elif (a < b):\n",
    "            #playerB.extend([b,a])\n",
    "            cards[endB] = b; endB += 1\n",
    "            cards[endB] = a; endB += 1\n",
    "            #playerB.extend(stack)\n",
    "            for i in range(endStack):\n",
    "                cards[endB] = stack[endStack-1-i]; endB += 1\n",
    "                cards[endB] = stack[endStack-1-i]; endB += 1\n",
    "            #stack.clear()\n",
    "#--#\n",
    "            for i in range(endStack): stack[i] = 0\n",
    "#--#\n",
    "            endStack = 0\n",
    "            #print(f'                cards:{cards}')\n",
    "        \n",
    "        else:\n",
    "            #stack.extendleft([a,b])\n",
    "            stack[endStack] = a; endStack += 1\n",
    "            #print(f'                stack:{stack}')\n",
    "    \n",
    "    winner = 1 if endA>topA \\\n",
    "        else 2 if endB>topB \\\n",
    "        else 0\n",
    "    \n",
    "    return deck, winner, ntricks, ncards\n",
    "\n",
    "    \n",
    "#play_game_2(shuffled_deck(3))\n",
    "play_game_2([3,2,1,1,2,1, 2,1,3,2,3,3])"
   ]
  },
  {
   "cell_type": "code",
   "execution_count": 299,
   "metadata": {},
   "outputs": [
    {
     "name": "stdout",
     "output_type": "stream",
     "text": [
      "535 µs ± 1.34 µs per loop (mean ± std. dev. of 7 runs, 1000 loops each)\n",
      "2.71 ms ± 6.87 µs per loop (mean ± std. dev. of 7 runs, 100 loops each)\n"
     ]
    }
   ],
   "source": [
    "%timeit all_games = [play_game(game) for game in enumerate_games(2)]\n",
    "\n",
    "game_list = [[c for a in game for c in a] for game in enumerate_games(2)]\n",
    "#print(game_list)\n",
    "%timeit all_games = [play_game_2(game) for game in game_list]"
   ]
  },
  {
   "cell_type": "code",
   "execution_count": 260,
   "metadata": {},
   "outputs": [
    {
     "name": "stdout",
     "output_type": "stream",
     "text": [
      "         698655 function calls in 1.510 seconds\n",
      "\n",
      "   Ordered by: cumulative time\n",
      "\n",
      "   ncalls  tottime  percall  cumtime  percall filename:lineno(function)\n",
      "        1    0.000    0.000    1.510    1.510 {built-in method builtins.exec}\n",
      "        1    0.200    0.200    1.510    1.510 <string>:1(<module>)\n",
      "    17370    0.657    0.000    1.310    0.000 <ipython-input-257-f30651ed4d0f>:20(play_game_2)\n",
      "   165888    0.235    0.000    0.650    0.000 <ipython-input-257-f30651ed4d0f>:15(myhash)\n",
      "   165888    0.377    0.000    0.377    0.000 {built-in method numpy.core.multiarray.array}\n",
      "   165888    0.022    0.000    0.022    0.000 {built-in method builtins.hash}\n",
      "   165888    0.016    0.000    0.016    0.000 {method 'tobytes' of 'memoryview' objects}\n",
      "    17370    0.002    0.000    0.002    0.000 {built-in method builtins.len}\n",
      "      360    0.000    0.000    0.000    0.000 {method 'index' of 'list' objects}\n",
      "        1    0.000    0.000    0.000    0.000 {method 'disable' of '_lsprof.Profiler' objects}\n",
      "\n",
      "\n"
     ]
    }
   ],
   "source": [
    "import cProfile\n",
    "\n",
    "game_list = [[c for a in game for c in a] for game in enumerate_games(3)]\n",
    "cProfile.run('for game in game_list: play_game_2(game)',sort='cumtime')"
   ]
  },
  {
   "cell_type": "code",
   "execution_count": 267,
   "metadata": {
    "scrolled": true
   },
   "outputs": [
    {
     "name": "stdout",
     "output_type": "stream",
     "text": [
      "         17373 function calls in 0.040 seconds\n",
      "\n",
      "   Ordered by: cumulative time\n",
      "\n",
      "   ncalls  tottime  percall  cumtime  percall filename:lineno(function)\n",
      "        1    0.000    0.000    0.040    0.040 {built-in method builtins.exec}\n",
      "        1    0.004    0.004    0.040    0.040 <string>:1(<module>)\n",
      "    17370    0.037    0.000    0.037    0.000 <ipython-input-263-75e5b3d3902c>:1(fnv64)\n",
      "        1    0.000    0.000    0.000    0.000 {method 'disable' of '_lsprof.Profiler' objects}\n",
      "\n",
      "\n"
     ]
    }
   ],
   "source": [
    "cProfile.run('for data in game_list: fnv64(data)',sort='cumtime')"
   ]
  },
  {
   "cell_type": "code",
   "execution_count": 270,
   "metadata": {
    "scrolled": true
   },
   "outputs": [
    {
     "name": "stdout",
     "output_type": "stream",
     "text": [
      "         52113 function calls in 0.021 seconds\n",
      "\n",
      "   Ordered by: cumulative time\n",
      "\n",
      "   ncalls  tottime  percall  cumtime  percall filename:lineno(function)\n",
      "        1    0.000    0.000    0.021    0.021 {built-in method builtins.exec}\n",
      "        1    0.003    0.003    0.021    0.021 <string>:1(<module>)\n",
      "    17370    0.014    0.000    0.018    0.000 <ipython-input-268-5834c52f0a90>:15(myhash)\n",
      "    17370    0.002    0.000    0.002    0.000 {built-in method builtins.hash}\n",
      "    17370    0.002    0.000    0.002    0.000 {method 'tobytes' of 'memoryview' objects}\n",
      "        1    0.000    0.000    0.000    0.000 {method 'disable' of '_lsprof.Profiler' objects}\n",
      "\n",
      "\n"
     ]
    }
   ],
   "source": [
    "np_game_list = [ np.array([c for a in game for c in a], dtype=np.uint8) for game in enumerate_games(3) ]\n",
    "cProfile.run('for data in np_game_list: myhash(data)',sort='cumtime')"
   ]
  },
  {
   "cell_type": "code",
   "execution_count": 283,
   "metadata": {},
   "outputs": [
    {
     "data": {
      "text/plain": [
       "array([2, 3, 4, 5, 6, 7, 8, 9, 0, 1])"
      ]
     },
     "execution_count": 283,
     "metadata": {},
     "output_type": "execute_result"
    }
   ],
   "source": [
    "x = np.arange(10)\n",
    "np.roll(x,-2)"
   ]
  }
 ],
 "metadata": {
  "kernelspec": {
   "display_name": "Python 3",
   "language": "python",
   "name": "python3"
  },
  "language_info": {
   "codemirror_mode": {
    "name": "ipython",
    "version": 3
   },
   "file_extension": ".py",
   "mimetype": "text/x-python",
   "name": "python",
   "nbconvert_exporter": "python",
   "pygments_lexer": "ipython3",
   "version": "3.6.4"
  }
 },
 "nbformat": 4,
 "nbformat_minor": 2
}
