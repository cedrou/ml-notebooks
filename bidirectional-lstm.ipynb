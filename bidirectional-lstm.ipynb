{
 "cells": [
  {
   "cell_type": "markdown",
   "metadata": {},
   "source": [
    "# Simple Bi-directional LSTM for Sequence Classification\n",
    "\n",
    "Inspired by [this post](https://machinelearningmastery.com/develop-bidirectional-lstm-sequence-classification-python-keras/)"
   ]
  },
  {
   "cell_type": "code",
   "execution_count": 1,
   "metadata": {},
   "outputs": [],
   "source": [
    "import numpy as np\n"
   ]
  },
  {
   "cell_type": "markdown",
   "metadata": {},
   "source": [
    "## Sequence Classification Problem\n",
    "We will define a simple sequence classification problem to explore bidirectional LSTMs.\n",
    "\n",
    "The problem is defined as a sequence of random values between 0 and 1. This sequence is taken as input for the problem with each number provided one per timestep.\n",
    "\n",
    "A binary label (0 or 1) is associated with each input. The output values are all 0. Once the cumulative sum of the input values in the sequence exceeds a threshold, then the output value flips from 0 to 1.\n",
    "\n",
    "A threshold of 1/4 the sequence length is used.\n",
    "\n",
    "For example, below is a sequence of 10 input timesteps (X):\n",
    "\n",
    "    0.63144003 0.29414551 0.91587952 0.95189228 0.32195638 0.60742236 0.83895793 0.18023048 0.84762691 0.29165514\n",
    "\n",
    "The corresponding classification output (y) would be:\n",
    "\n",
    "    0 0 0 1 1 1 1 1 1 1"
   ]
  },
  {
   "cell_type": "code",
   "execution_count": 6,
   "metadata": {},
   "outputs": [],
   "source": [
    "def sequence_generator(batch_size, seq_size):\n",
    "    while 1:\n",
    "        limit = seq_size / 4.0\n",
    "\n",
    "        X = np.random.rand(batch_size,seq_size).astype(np.float32)\n",
    "        Y = np.array([[0 if _x<limit else 1 for _x in np.cumsum(x)] for x in X])\n",
    "\n",
    "        #reshape the arrays to fit LSTM input shape\n",
    "        X = X.reshape(batch_size, seq_size, 1)\n",
    "        Y = Y.reshape(batch_size, seq_size, 1)\n",
    "        \n",
    "        yield X,Y\n"
   ]
  },
  {
   "cell_type": "markdown",
   "metadata": {},
   "source": [
    "## LSTM model"
   ]
  },
  {
   "cell_type": "markdown",
   "metadata": {},
   "source": [
    "The input layer will have 10 timesteps with 1 feature a piece, input_shape=(10, 1).\n",
    "\n",
    "The first hidden layer will have 20 memory units and the output layer will be a fully connected layer that outputs one value per timestep. A sigmoid activation function is used on the output to predict the binary value.\n",
    "\n",
    "A TimeDistributed wrapper layer is used around the output layer so that one value per timestep can be predicted given the full sequence provided as input. This requires that the LSTM hidden layer returns a sequence of values (one per timestep) rather than a single value for the whole input sequence.\n",
    "\n",
    "Finally, because this is a binary classification problem, the binary log loss (binary_crossentropy in Keras) is used.\n",
    "\n",
    "The efficient ADAM optimization algorithm is used to find the weights and the accuracy metric is calculated and reported each epoch."
   ]
  },
  {
   "cell_type": "code",
   "execution_count": 7,
   "metadata": {},
   "outputs": [
    {
     "name": "stderr",
     "output_type": "stream",
     "text": [
      "C:\\Users\\cedro\\Anaconda3\\lib\\site-packages\\h5py\\__init__.py:36: FutureWarning: Conversion of the second argument of issubdtype from `float` to `np.floating` is deprecated. In future, it will be treated as `np.float64 == np.dtype(float).type`.\n",
      "  from ._conv import register_converters as _register_converters\n",
      "Using CNTK backend\n"
     ]
    }
   ],
   "source": [
    "from keras.models import Sequential\n",
    "from keras.layers import LSTM, TimeDistributed, Dense\n",
    "from keras.metrics import categorical_accuracy as acc\n",
    "\n",
    "n_timesteps = 10\n",
    "\n",
    "def LSTM_model(go_backwards=False):\n",
    "    model = Sequential()\n",
    "    model.add(LSTM(20, input_shape=(n_timesteps,1), return_sequences=True, go_backwards=go_backwards))\n",
    "    model.add(TimeDistributed(Dense(1, activation = 'sigmoid')))\n",
    "    model.compile(loss='binary_crossentropy', optimizer='adam', metrics=[acc])\n",
    "    return model"
   ]
  },
  {
   "cell_type": "markdown",
   "metadata": {},
   "source": [
    "The model will be trained on 10000 random samples, by batches of 100 sequences and for 10 epochs."
   ]
  },
  {
   "cell_type": "code",
   "execution_count": 31,
   "metadata": {},
   "outputs": [
    {
     "name": "stdout",
     "output_type": "stream",
     "text": [
      "Epoch 1/10\n",
      "10/10 [==============================] - 0s 18ms/step - loss: 0.6801 - categorical_accuracy: 1.0000\n",
      "Epoch 2/10\n",
      "10/10 [==============================] - 0s 11ms/step - loss: 0.6626 - categorical_accuracy: 1.0000\n",
      "Epoch 3/10\n",
      "10/10 [==============================] - 0s 13ms/step - loss: 0.6427 - categorical_accuracy: 1.0000\n",
      "Epoch 4/10\n",
      "10/10 [==============================] - 0s 12ms/step - loss: 0.6105 - categorical_accuracy: 1.0000\n",
      "Epoch 5/10\n",
      "10/10 [==============================] - 0s 10ms/step - loss: 0.5845 - categorical_accuracy: 1.0000\n",
      "Epoch 6/10\n",
      "10/10 [==============================] - 0s 11ms/step - loss: 0.5437 - categorical_accuracy: 1.0000\n",
      "Epoch 7/10\n",
      "10/10 [==============================] - 0s 10ms/step - loss: 0.5219 - categorical_accuracy: 1.0000\n",
      "Epoch 8/10\n",
      "10/10 [==============================] - 0s 12ms/step - loss: 0.4991 - categorical_accuracy: 1.0000\n",
      "Epoch 9/10\n",
      "10/10 [==============================] - 0s 12ms/step - loss: 0.4694 - categorical_accuracy: 1.0000\n",
      "Epoch 10/10\n",
      "10/10 [==============================] - 0s 10ms/step - loss: 0.4464 - categorical_accuracy: 1.0000\n"
     ]
    },
    {
     "data": {
      "text/plain": [
       "<keras.callbacks.History at 0x291138f2eb8>"
      ]
     },
     "execution_count": 31,
     "metadata": {},
     "output_type": "execute_result"
    }
   ],
   "source": [
    "n_epochs = 10\n",
    "batch_size = 100\n",
    "n_batches_per_epoch = 10\n",
    "\n",
    "generator = sequence_generator(batch_size,n_timesteps)\n",
    "\n",
    "lstm_model = LSTM_model()\n",
    "lstm_model.fit_generator(generator, steps_per_epoch=n_batches_per_epoch, epochs=n_epochs)"
   ]
  },
  {
   "cell_type": "markdown",
   "metadata": {},
   "source": [
    "Evaluate the LSTM model on 1 batch of random samples"
   ]
  },
  {
   "cell_type": "code",
   "execution_count": 17,
   "metadata": {},
   "outputs": [
    {
     "data": {
      "text/plain": [
       "[0.4257476329803467, 0.9999999403953552]"
      ]
     },
     "execution_count": 17,
     "metadata": {},
     "output_type": "execute_result"
    }
   ],
   "source": [
    "lstm_model.evaluate_generator(generator, steps=1)"
   ]
  },
  {
   "cell_type": "markdown",
   "metadata": {},
   "source": [
    "## BLSTM model\n",
    "\n",
    "We can now extend the example to demonstrate a Bidirectional LSTM.\n",
    "\n",
    "We can do this by wrapping the LSTM hidden layer with a Bidirectional layer.\n",
    "\n",
    "This will create two copies of the hidden layer, one fit in the input sequences as-is and one on a reversed copy of the input sequence. By default, the output values from these LSTMs will be concatenated.\n",
    "\n",
    "That means that instead of receiving 10 timesteps of 20 outputs, the TimeDistributed layer will now receive 10 timesteps of 40 (20 units + 20 units) outputs."
   ]
  },
  {
   "cell_type": "code",
   "execution_count": 29,
   "metadata": {},
   "outputs": [],
   "source": [
    "from keras.layers import Bidirectional\n",
    "\n",
    "def BLSTM_model(merge_mode='concat'):\n",
    "    model = Sequential()\n",
    "    model.add(Bidirectional(LSTM(20, return_sequences=True), input_shape=(n_timesteps,1), merge_mode=merge_mode))\n",
    "    model.add(TimeDistributed(Dense(1, activation = 'sigmoid')))\n",
    "    model.compile(loss='binary_crossentropy', optimizer='adam', metrics=[acc])\n",
    "    return model"
   ]
  },
  {
   "cell_type": "code",
   "execution_count": 32,
   "metadata": {},
   "outputs": [
    {
     "name": "stdout",
     "output_type": "stream",
     "text": [
      "Epoch 1/10\n",
      "10/10 [==============================] - 0s 30ms/step - loss: 0.6795 - categorical_accuracy: 1.0000\n",
      "Epoch 2/10\n",
      "10/10 [==============================] - 0s 18ms/step - loss: 0.6552 - categorical_accuracy: 1.0000\n",
      "Epoch 3/10\n",
      "10/10 [==============================] - 0s 19ms/step - loss: 0.6241 - categorical_accuracy: 1.0000\n",
      "Epoch 4/10\n",
      "10/10 [==============================] - 0s 17ms/step - loss: 0.5789 - categorical_accuracy: 1.0000\n",
      "Epoch 5/10\n",
      "10/10 [==============================] - 0s 17ms/step - loss: 0.5064 - categorical_accuracy: 1.0000\n",
      "Epoch 6/10\n",
      "10/10 [==============================] - 0s 17ms/step - loss: 0.4075 - categorical_accuracy: 1.0000\n",
      "Epoch 7/10\n",
      "10/10 [==============================] - 0s 17ms/step - loss: 0.3115 - categorical_accuracy: 1.0000\n",
      "Epoch 8/10\n",
      "10/10 [==============================] - 0s 17ms/step - loss: 0.2608 - categorical_accuracy: 1.0000\n",
      "Epoch 9/10\n",
      "10/10 [==============================] - 0s 17ms/step - loss: 0.2303 - categorical_accuracy: 1.0000\n",
      "Epoch 10/10\n",
      "10/10 [==============================] - 0s 18ms/step - loss: 0.2199 - categorical_accuracy: 1.0000\n"
     ]
    },
    {
     "data": {
      "text/plain": [
       "<keras.callbacks.History at 0x2910eae8ac8>"
      ]
     },
     "execution_count": 32,
     "metadata": {},
     "output_type": "execute_result"
    }
   ],
   "source": [
    "blstm_model = BLSTM_model()\n",
    "blstm_model.fit_generator(generator, steps_per_epoch=n_batches_per_epoch, epochs=n_epochs)"
   ]
  },
  {
   "cell_type": "markdown",
   "metadata": {},
   "source": [
    "## Compare LSTM to Bidirectional LSTM\n",
    "\n",
    "In this example, we will compare the performance of traditional LSTMs to a Bidirectional LSTM over time while the models are being trained.\n",
    "\n",
    "We will compare three different models; specifically:\n",
    "1. LSTM\n",
    "2. LSTM with reversed input sequences\n",
    "3. Bidirectional LSTM\n",
    "\n",
    "This comparison will help to show that bidirectional LSTMs can in fact add something more than simply reversing the input sequence."
   ]
  },
  {
   "cell_type": "code",
   "execution_count": 36,
   "metadata": {},
   "outputs": [
    {
     "name": "stdout",
     "output_type": "stream",
     "text": [
      "Epoch 1/10\n",
      "10/10 [==============================] - 0s 19ms/step - loss: 0.6637 - categorical_accuracy: 1.0000\n",
      "Epoch 2/10\n",
      "10/10 [==============================] - 0s 11ms/step - loss: 0.6443 - categorical_accuracy: 1.0000\n",
      "Epoch 3/10\n",
      "10/10 [==============================] - 0s 9ms/step - loss: 0.6220 - categorical_accuracy: 1.0000\n",
      "Epoch 4/10\n",
      "10/10 [==============================] - 0s 15ms/step - loss: 0.5937 - categorical_accuracy: 1.0000\n",
      "Epoch 5/10\n",
      "10/10 [==============================] - 0s 10ms/step - loss: 0.5730 - categorical_accuracy: 1.0000\n",
      "Epoch 6/10\n",
      "10/10 [==============================] - 0s 11ms/step - loss: 0.5454 - categorical_accuracy: 1.0000\n",
      "Epoch 7/10\n",
      "10/10 [==============================] - 0s 11ms/step - loss: 0.5168 - categorical_accuracy: 1.0000\n",
      "Epoch 8/10\n",
      "10/10 [==============================] - 0s 11ms/step - loss: 0.4939 - categorical_accuracy: 1.0000\n",
      "Epoch 9/10\n",
      "10/10 [==============================] - 0s 11ms/step - loss: 0.4697 - categorical_accuracy: 1.0000\n",
      "Epoch 10/10\n",
      "10/10 [==============================] - 0s 11ms/step - loss: 0.4534 - categorical_accuracy: 1.0000\n",
      "Epoch 1/10\n",
      "10/10 [==============================] - 0s 18ms/step - loss: 0.7092 - categorical_accuracy: 1.0000\n",
      "Epoch 2/10\n",
      "10/10 [==============================] - 0s 10ms/step - loss: 0.6961 - categorical_accuracy: 1.0000\n",
      "Epoch 3/10\n",
      "10/10 [==============================] - 0s 11ms/step - loss: 0.6864 - categorical_accuracy: 1.0000\n",
      "Epoch 4/10\n",
      "10/10 [==============================] - 0s 11ms/step - loss: 0.6778 - categorical_accuracy: 1.0000\n",
      "Epoch 5/10\n",
      "10/10 [==============================] - 0s 10ms/step - loss: 0.6649 - categorical_accuracy: 1.0000\n",
      "Epoch 6/10\n",
      "10/10 [==============================] - 0s 11ms/step - loss: 0.6481 - categorical_accuracy: 1.0000\n",
      "Epoch 7/10\n",
      "10/10 [==============================] - 0s 10ms/step - loss: 0.6270 - categorical_accuracy: 1.0000\n",
      "Epoch 8/10\n",
      "10/10 [==============================] - 0s 11ms/step - loss: 0.5957 - categorical_accuracy: 1.0000\n",
      "Epoch 9/10\n",
      "10/10 [==============================] - 0s 10ms/step - loss: 0.5684 - categorical_accuracy: 1.0000\n",
      "Epoch 10/10\n",
      "10/10 [==============================] - 0s 11ms/step - loss: 0.5493 - categorical_accuracy: 1.0000\n",
      "Epoch 1/10\n",
      "10/10 [==============================] - 0s 25ms/step - loss: 0.6814 - categorical_accuracy: 1.0000\n",
      "Epoch 2/10\n",
      "10/10 [==============================] - 0s 19ms/step - loss: 0.6574 - categorical_accuracy: 1.0000\n",
      "Epoch 3/10\n",
      "10/10 [==============================] - 0s 16ms/step - loss: 0.6257 - categorical_accuracy: 1.0000\n",
      "Epoch 4/10\n",
      "10/10 [==============================] - 0s 19ms/step - loss: 0.5795 - categorical_accuracy: 1.0000\n",
      "Epoch 5/10\n",
      "10/10 [==============================] - 0s 16ms/step - loss: 0.5090 - categorical_accuracy: 1.0000\n",
      "Epoch 6/10\n",
      "10/10 [==============================] - 0s 18ms/step - loss: 0.4230 - categorical_accuracy: 1.0000\n",
      "Epoch 7/10\n",
      "10/10 [==============================] - 0s 16ms/step - loss: 0.3396 - categorical_accuracy: 1.0000\n",
      "Epoch 8/10\n",
      "10/10 [==============================] - 0s 18ms/step - loss: 0.2794 - categorical_accuracy: 1.0000\n",
      "Epoch 9/10\n",
      "10/10 [==============================] - 0s 17ms/step - loss: 0.2475 - categorical_accuracy: 1.0000\n",
      "Epoch 10/10\n",
      "10/10 [==============================] - 0s 18ms/step - loss: 0.2275 - categorical_accuracy: 1.0000\n"
     ]
    },
    {
     "data": {
      "image/png": "[encoded data removed]",
      "text/plain": [
       "<matplotlib.figure.Figure at 0x2911eb67588>"
      ]
     },
     "metadata": {},
     "output_type": "display_data"
    }
   ],
   "source": [
    "import matplotlib.pyplot as plt\n",
    "from pandas import DataFrame\n",
    "\n",
    "results = DataFrame()\n",
    "\n",
    "# LSTM forward\n",
    "model = LSTM_model(False)\n",
    "results['lstm_forw'] = model.fit_generator(generator, steps_per_epoch=n_batches_per_epoch, epochs=n_epochs).history['loss']\n",
    "\n",
    "# LSTM backward\n",
    "model = LSTM_model(True)\n",
    "results['lstm_back'] = model.fit_generator(generator, steps_per_epoch=n_batches_per_epoch, epochs=n_epochs).history['loss']\n",
    "\n",
    "# BLSTM\n",
    "model = BLSTM_model('concat')\n",
    "results['blstm_con'] = model.fit_generator(generator, steps_per_epoch=n_batches_per_epoch, epochs=n_epochs).history['loss']\n",
    "\n",
    "# line plot of results\n",
    "results.plot()\n",
    "plt.show()"
   ]
  },
  {
   "cell_type": "markdown",
   "metadata": {},
   "source": [
    "## Compare BLSTM merge modes\n",
    "\n",
    "There a 4 different merge modes that can be used to combine the outcomes of the Bidirectional LSTM layers.\n",
    "\n",
    "They are concatenation (default), multiplication, average, and sum."
   ]
  },
  {
   "cell_type": "code",
   "execution_count": 37,
   "metadata": {},
   "outputs": [
    {
     "name": "stdout",
     "output_type": "stream",
     "text": [
      "Epoch 1/10\n",
      "10/10 [==============================] - 0s 32ms/step - loss: 0.6798 - categorical_accuracy: 1.0000\n",
      "Epoch 2/10\n",
      "10/10 [==============================] - 0s 17ms/step - loss: 0.6461 - categorical_accuracy: 1.0000\n",
      "Epoch 3/10\n",
      "10/10 [==============================] - 0s 17ms/step - loss: 0.6025 - categorical_accuracy: 1.0000\n",
      "Epoch 4/10\n",
      "10/10 [==============================] - 0s 18ms/step - loss: 0.5383 - categorical_accuracy: 1.0000\n",
      "Epoch 5/10\n",
      "10/10 [==============================] - 0s 17ms/step - loss: 0.4473 - categorical_accuracy: 1.0000\n",
      "Epoch 6/10\n",
      "10/10 [==============================] - 0s 17ms/step - loss: 0.3474 - categorical_accuracy: 1.0000\n",
      "Epoch 7/10\n",
      "10/10 [==============================] - 0s 18ms/step - loss: 0.2711 - categorical_accuracy: 1.0000\n",
      "Epoch 8/10\n",
      "10/10 [==============================] - 0s 17ms/step - loss: 0.2254 - categorical_accuracy: 1.0000\n",
      "Epoch 9/10\n",
      "10/10 [==============================] - 0s 17ms/step - loss: 0.2205 - categorical_accuracy: 1.0000\n",
      "Epoch 10/10\n",
      "10/10 [==============================] - 0s 17ms/step - loss: 0.2106 - categorical_accuracy: 1.0000\n",
      "Epoch 1/10\n",
      "10/10 [==============================] - 0s 30ms/step - loss: 0.6923 - categorical_accuracy: 1.0000\n",
      "Epoch 2/10\n",
      "10/10 [==============================] - 0s 17ms/step - loss: 0.6905 - categorical_accuracy: 1.0000\n",
      "Epoch 3/10\n",
      "10/10 [==============================] - 0s 17ms/step - loss: 0.6882 - categorical_accuracy: 1.0000\n",
      "Epoch 4/10\n",
      "10/10 [==============================] - 0s 17ms/step - loss: 0.6838 - categorical_accuracy: 1.0000\n",
      "Epoch 5/10\n",
      "10/10 [==============================] - 0s 17ms/step - loss: 0.6753 - categorical_accuracy: 1.0000\n",
      "Epoch 6/10\n",
      "10/10 [==============================] - 0s 17ms/step - loss: 0.6574 - categorical_accuracy: 1.0000\n",
      "Epoch 7/10\n",
      "10/10 [==============================] - 0s 17ms/step - loss: 0.6290 - categorical_accuracy: 1.0000\n",
      "Epoch 8/10\n",
      "10/10 [==============================] - 0s 17ms/step - loss: 0.5873 - categorical_accuracy: 1.0000\n",
      "Epoch 9/10\n",
      "10/10 [==============================] - 0s 16ms/step - loss: 0.5427 - categorical_accuracy: 1.0000\n",
      "Epoch 10/10\n",
      "10/10 [==============================] - 0s 17ms/step - loss: 0.4806 - categorical_accuracy: 1.0000\n",
      "Epoch 1/10\n",
      "10/10 [==============================] - 0s 23ms/step - loss: 0.6913 - categorical_accuracy: 1.0000\n",
      "Epoch 2/10\n",
      "10/10 [==============================] - 0s 17ms/step - loss: 0.6771 - categorical_accuracy: 1.0000\n",
      "Epoch 3/10\n",
      "10/10 [==============================] - 0s 17ms/step - loss: 0.6609 - categorical_accuracy: 1.0000\n",
      "Epoch 4/10\n",
      "10/10 [==============================] - 0s 20ms/step - loss: 0.6376 - categorical_accuracy: 1.0000\n",
      "Epoch 5/10\n",
      "10/10 [==============================] - 0s 17ms/step - loss: 0.6021 - categorical_accuracy: 1.0000\n",
      "Epoch 6/10\n",
      "10/10 [==============================] - 0s 17ms/step - loss: 0.5470 - categorical_accuracy: 1.0000\n",
      "Epoch 7/10\n",
      "10/10 [==============================] - 0s 16ms/step - loss: 0.4690 - categorical_accuracy: 1.0000\n",
      "Epoch 8/10\n",
      "10/10 [==============================] - 0s 15ms/step - loss: 0.3906 - categorical_accuracy: 1.0000\n",
      "Epoch 9/10\n",
      "10/10 [==============================] - 0s 19ms/step - loss: 0.3325 - categorical_accuracy: 1.0000\n",
      "Epoch 10/10\n",
      "10/10 [==============================] - 0s 17ms/step - loss: 0.2870 - categorical_accuracy: 1.0000\n",
      "Epoch 1/10\n",
      "10/10 [==============================] - 0s 24ms/step - loss: 0.6889 - categorical_accuracy: 1.0000\n",
      "Epoch 2/10\n",
      "10/10 [==============================] - 0s 16ms/step - loss: 0.6659 - categorical_accuracy: 1.0000\n",
      "Epoch 3/10\n",
      "10/10 [==============================] - 0s 17ms/step - loss: 0.6389 - categorical_accuracy: 1.0000\n",
      "Epoch 4/10\n",
      "10/10 [==============================] - 0s 17ms/step - loss: 0.5996 - categorical_accuracy: 1.0000\n",
      "Epoch 5/10\n",
      "10/10 [==============================] - 0s 16ms/step - loss: 0.5373 - categorical_accuracy: 1.0000\n",
      "Epoch 6/10\n",
      "10/10 [==============================] - 0s 17ms/step - loss: 0.4463 - categorical_accuracy: 1.0000\n",
      "Epoch 7/10\n",
      "10/10 [==============================] - 0s 16ms/step - loss: 0.3480 - categorical_accuracy: 1.0000\n",
      "Epoch 8/10\n",
      "10/10 [==============================] - 0s 17ms/step - loss: 0.2701 - categorical_accuracy: 1.0000\n",
      "Epoch 9/10\n",
      "10/10 [==============================] - 0s 16ms/step - loss: 0.2413 - categorical_accuracy: 1.0000\n",
      "Epoch 10/10\n",
      "10/10 [==============================] - 0s 16ms/step - loss: 0.2288 - categorical_accuracy: 1.0000\n"
     ]
    },
    {
     "data": {
      "image/png": "[encoded data removed]",
      "text/plain": [
       "<matplotlib.figure.Figure at 0x29121d75390>"
      ]
     },
     "metadata": {},
     "output_type": "display_data"
    }
   ],
   "source": [
    "results = DataFrame()\n",
    "\n",
    "# sum merge\n",
    "model = BLSTM_model('sum')\n",
    "results['blstm_sum'] = model.fit_generator(generator, steps_per_epoch=n_batches_per_epoch, epochs=n_epochs).history['loss']\n",
    "\n",
    "# mul merge\n",
    "model = BLSTM_model('mul')\n",
    "results['blstm_mul'] = model.fit_generator(generator, steps_per_epoch=n_batches_per_epoch, epochs=n_epochs).history['loss']\n",
    "\n",
    "# ave merge\n",
    "model = BLSTM_model('ave')\n",
    "results['blstm_ave'] = model.fit_generator(generator, steps_per_epoch=n_batches_per_epoch, epochs=n_epochs).history['loss']\n",
    "\n",
    "# concat merge\n",
    "model = BLSTM_model('concat')\n",
    "results['blstm_con'] = model.fit_generator(generator, steps_per_epoch=n_batches_per_epoch, epochs=n_epochs).history['loss']\n",
    "\n",
    "# line plot of results\n",
    "results.plot()\n",
    "plt.show()"
   ]
  }
 ],
 "metadata": {
  "kernelspec": {
   "display_name": "Python 3",
   "language": "python",
   "name": "python3"
  },
  "language_info": {
   "codemirror_mode": {
    "name": "ipython",
    "version": 3
   },
   "file_extension": ".py",
   "mimetype": "text/x-python",
   "name": "python",
   "nbconvert_exporter": "python",
   "pygments_lexer": "ipython3",
   "version": "3.6.4"
  }
 },
 "nbformat": 4,
 "nbformat_minor": 2
}
