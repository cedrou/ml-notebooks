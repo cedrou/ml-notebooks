{
 "cells": [
  {
   "cell_type": "markdown",
   "metadata": {},
   "source": [
    "# LSTM in Keras\n"
   ]
  },
  {
   "cell_type": "code",
   "execution_count": 1,
   "metadata": {},
   "outputs": [],
   "source": [
    "from keras.layers import Input, LSTM, Bidirectional\n",
    "from keras.models import Model"
   ]
  },
  {
   "cell_type": "markdown",
   "metadata": {},
   "source": [
    "## Many-to-One"
   ]
  },
  {
   "cell_type": "markdown",
   "metadata": {},
   "source": [
    "**Standard LSTM**\n",
    "\n",
    "    in(timesteps,features) -> LSTM(units) -> out(units)"
   ]
  },
  {
   "cell_type": "code",
   "execution_count": 2,
   "metadata": {},
   "outputs": [
    {
     "name": "stdout",
     "output_type": "stream",
     "text": [
      "_________________________________________________________________\n",
      "Layer (type)                 Output Shape              Param #   \n",
      "=================================================================\n",
      "input_1 (InputLayer)         (None, 11, 3)             0         \n",
      "_________________________________________________________________\n",
      "lstm_1 (LSTM)                (None, 5)                 180       \n",
      "=================================================================\n",
      "Total params: 180\n",
      "Trainable params: 180\n",
      "Non-trainable params: 0\n",
      "_________________________________________________________________\n"
     ]
    }
   ],
   "source": [
    "timesteps = 11\n",
    "features = 3\n",
    "units = 5\n",
    "\n",
    "x = Input(shape=(timesteps, features))\n",
    "a = LSTM(units, return_sequences=False)(x)\n",
    "Model(x, a).summary()"
   ]
  },
  {
   "cell_type": "markdown",
   "metadata": {},
   "source": [
    "**Bidirectional LSTM**\n",
    "\n",
    "    in(timesteps,features) -> LSTM(units) -> out(2 * units)"
   ]
  },
  {
   "cell_type": "code",
   "execution_count": 3,
   "metadata": {},
   "outputs": [
    {
     "name": "stdout",
     "output_type": "stream",
     "text": [
      "_________________________________________________________________\n",
      "Layer (type)                 Output Shape              Param #   \n",
      "=================================================================\n",
      "input_2 (InputLayer)         (None, 11, 3)             0         \n",
      "_________________________________________________________________\n",
      "bidirectional_1 (Bidirection (None, 10)                360       \n",
      "=================================================================\n",
      "Total params: 360\n",
      "Trainable params: 360\n",
      "Non-trainable params: 0\n",
      "_________________________________________________________________\n"
     ]
    }
   ],
   "source": [
    "timesteps = 11\n",
    "features = 3\n",
    "units = 5\n",
    "\n",
    "x = Input(shape=(timesteps, features))\n",
    "a = Bidirectional(LSTM(units, return_sequences=False))(x)\n",
    "Model(x, a).summary()"
   ]
  },
  {
   "cell_type": "markdown",
   "metadata": {},
   "source": [
    "## Many-to-Many"
   ]
  },
  {
   "cell_type": "markdown",
   "metadata": {},
   "source": [
    "**Standard LSTM**\n",
    "\n",
    "    in(timesteps,features) -> LSTM(units) -> out(timesteps,units)"
   ]
  },
  {
   "cell_type": "code",
   "execution_count": 4,
   "metadata": {},
   "outputs": [
    {
     "name": "stdout",
     "output_type": "stream",
     "text": [
      "_________________________________________________________________\n",
      "Layer (type)                 Output Shape              Param #   \n",
      "=================================================================\n",
      "input_3 (InputLayer)         (None, 11, 3)             0         \n",
      "_________________________________________________________________\n",
      "lstm_3 (LSTM)                (None, 11, 5)             180       \n",
      "=================================================================\n",
      "Total params: 180\n",
      "Trainable params: 180\n",
      "Non-trainable params: 0\n",
      "_________________________________________________________________\n"
     ]
    }
   ],
   "source": [
    "timesteps = 11\n",
    "features = 3\n",
    "lstm_units = 5\n",
    "\n",
    "x = Input(shape=(timesteps, features))\n",
    "a = LSTM(lstm_units, return_sequences=True)(x)\n",
    "Model(x, a).summary()"
   ]
  },
  {
   "cell_type": "markdown",
   "metadata": {},
   "source": [
    "**Bidirectional LSTM**\n",
    "\n",
    "    in(timesteps,features) -> LSTM(units) -> out(timesteps, 2 * units)"
   ]
  },
  {
   "cell_type": "code",
   "execution_count": 5,
   "metadata": {},
   "outputs": [
    {
     "name": "stdout",
     "output_type": "stream",
     "text": [
      "_________________________________________________________________\n",
      "Layer (type)                 Output Shape              Param #   \n",
      "=================================================================\n",
      "input_4 (InputLayer)         (None, 11, 3)             0         \n",
      "_________________________________________________________________\n",
      "bidirectional_2 (Bidirection (None, 11, 10)            360       \n",
      "=================================================================\n",
      "Total params: 360\n",
      "Trainable params: 360\n",
      "Non-trainable params: 0\n",
      "_________________________________________________________________\n"
     ]
    }
   ],
   "source": [
    "timesteps = 11\n",
    "features = 3\n",
    "lstm_units = 5\n",
    "\n",
    "x = Input(shape=(timesteps, features))\n",
    "a = Bidirectional(LSTM(lstm_units, return_sequences=True))(x)\n",
    "Model(x, a).summary()"
   ]
  }
 ],
 "metadata": {
  "kernelspec": {
   "display_name": "Python 3",
   "language": "python",
   "name": "python3"
  },
  "language_info": {
   "codemirror_mode": {
    "name": "ipython",
    "version": 3
   },
   "file_extension": ".py",
   "mimetype": "text/x-python",
   "name": "python",
   "nbconvert_exporter": "python",
   "pygments_lexer": "ipython3",
   "version": "3.6.4"
  }
 },
 "nbformat": 4,
 "nbformat_minor": 2
}
