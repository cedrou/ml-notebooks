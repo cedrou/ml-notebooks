{
 "cells": [
  {
   "cell_type": "markdown",
   "metadata": {},
   "source": [
    "# Grid world\n",
    "\n",
    "We define a game where a robot learns to find an optimal path in a room to a target while avoiding traps. \n",
    "\n",
    "The room is described by a 3x4 grid. Initially the robot is in (2,0), the target is in (0,3), the trap in (1,3) and the cell (1,1) is unreachable (wall or pillar).\n",
    "\n",
    "```\n",
    "    +---+---+---+---+\n",
    "    |   |   |   | +1|\n",
    "    +---+---+---+---+\n",
    "    |   |XXX|   | -1|\n",
    "    +---+---+---+---+\n",
    "    | R |   |   |   |\n",
    "    +---+---+---+---+\n",
    "    \n",
    "```\n",
    "The actions available to the robot are up, down, left and right (U,D,L,R).\n",
    "\n",
    "This problem exposes 11 states and 4 actions."
   ]
  },
  {
   "cell_type": "code",
   "execution_count": 1,
   "metadata": {},
   "outputs": [],
   "source": [
    "import numpy as np"
   ]
  },
  {
   "cell_type": "markdown",
   "metadata": {},
   "source": [
    "The class `Grid` describes the room (size, rewards for each cell and actions possible from each cell) and keeps the current state (the position of the agent)."
   ]
  },
  {
   "cell_type": "code",
   "execution_count": null,
   "metadata": {},
   "outputs": [],
   "source": [
    "class Grid:\n",
    "    def __init__(self, width, height):\n",
    "        self.W = width\n",
    "        self.H = height\n",
    "        \n",
    "    def configure(self, rewards, actions, start)\n",
    "        self.rewards = rewards\n",
    "        self.actions = actions\n",
    "        self.state = start\n",
    "        \n",
    "    def game_over(self):\n",
    "        return self.state not in self.actions"
   ]
  }
 ],
 "metadata": {
  "kernelspec": {
   "display_name": "Python 3",
   "language": "python",
   "name": "python3"
  },
  "language_info": {
   "codemirror_mode": {
    "name": "ipython",
    "version": 3
   },
   "file_extension": ".py",
   "mimetype": "text/x-python",
   "name": "python",
   "nbconvert_exporter": "python",
   "pygments_lexer": "ipython3",
   "version": "3.6.4"
  }
 },
 "nbformat": 4,
 "nbformat_minor": 2
}
